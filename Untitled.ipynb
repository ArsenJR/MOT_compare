{
 "cells": [
  {
   "cell_type": "code",
   "execution_count": null,
   "id": "10984911",
   "metadata": {},
   "outputs": [],
   "source": [
    "!pip install -r requirements.txt"
   ]
  },
  {
   "cell_type": "code",
   "execution_count": null,
   "id": "01875699",
   "metadata": {},
   "outputs": [],
   "source": [
    "!pip install -e"
   ]
  },
  {
   "cell_type": "code",
   "execution_count": null,
   "id": "e98ffa36",
   "metadata": {},
   "outputs": [],
   "source": [
    "!pip install ipywidgets"
   ]
  },
  {
   "cell_type": "code",
   "execution_count": 1,
   "id": "9d846f89",
   "metadata": {},
   "outputs": [],
   "source": [
    "import numpy as np\n",
    "import cv2 as cv\n",
    "import ipywidgets as widgets\n",
    "from centroid_kf_tracker import CentroidKF_Tracker\n",
    "from tracker import Tracker as CentroidTracker\n",
    "from sort_tracker import SORT\n",
    "from iou_tracker import IOUTracker\n",
    "from yolo import YOLOv3\n",
    "from misc import draw_tracks"
   ]
  },
  {
   "cell_type": "code",
   "execution_count": 47,
   "id": "2ee9314f",
   "metadata": {},
   "outputs": [],
   "source": [
    "VIDEO_FILE = \"video/static.mp4\"\n",
    "WEIGHTS_PATH = 'yolo_weights/yolov3.weights'\n",
    "CONFIG_FILE_PATH = 'yolo_weights/yolov3.cfg'\n",
    "LABELS_PATH = \"yolo_weights/coco_names.json\"\n",
    "\n",
    "CONFIDENCE_THRESHOLD = 0.5\n",
    "NMS_THRESHOLD = 0.2\n",
    "DRAW_BOUNDING_BOXES = True\n",
    "USE_GPU = False"
   ]
  },
  {
   "cell_type": "code",
   "execution_count": 48,
   "id": "cba72b53",
   "metadata": {},
   "outputs": [
    {
     "data": {
      "application/vnd.jupyter.widget-view+json": {
       "model_id": "732f65d0ccd24314bcd360c6145a87be",
       "version_major": 2,
       "version_minor": 0
      },
      "text/plain": [
       "Select(description='MOTracker:', index=2, options=('CentroidTracker', 'CentroidKF_Tracker', 'SORT', 'IOUTracke…"
      ]
     },
     "metadata": {},
     "output_type": "display_data"
    }
   ],
   "source": [
    "chosen_tracker = widgets.Select(\n",
    "    options=[\"CentroidTracker\", \"CentroidKF_Tracker\", \"SORT\", \"IOUTracker\"],\n",
    "    value='SORT',\n",
    "    rows=5,\n",
    "    description='MOTracker:',\n",
    "    disabled=False\n",
    ")\n",
    "chosen_tracker"
   ]
  },
  {
   "cell_type": "code",
   "execution_count": 49,
   "id": "43247a3f",
   "metadata": {},
   "outputs": [
    {
     "name": "stdout",
     "output_type": "stream",
     "text": [
      "SORT\n"
     ]
    }
   ],
   "source": [
    "if chosen_tracker.value == 'CentroidTracker':\n",
    "    tracker = CentroidTracker(max_lost=0, tracker_output_format='mot_challenge')\n",
    "    trackerType = 'CentroidTracker'\n",
    "    print(trackerType)\n",
    "elif chosen_tracker.value == 'CentroidKF_Tracker':\n",
    "    tracker = CentroidKF_Tracker(max_lost=0, tracker_output_format='mot_challenge')\n",
    "    trackerType = 'CentroidKF_Tracker'\n",
    "    print(trackerType)\n",
    "elif chosen_tracker.value == 'SORT':\n",
    "    tracker = SORT(max_lost=3, tracker_output_format='mot_challenge', iou_threshold=0.3)\n",
    "    trackerType = 'SORT'\n",
    "    print(trackerType)\n",
    "elif chosen_tracker.value == 'IOUTracker':\n",
    "    tracker = IOUTracker(max_lost=2, iou_threshold=0.5, min_detection_confidence=0.4, max_detection_confidence=0.7,\n",
    "                         tracker_output_format='mot_challenge')\n",
    "    trackerType = 'IOUTracker'\n",
    "    print(trackerType)\n",
    "else:\n",
    "    print(\"Please choose one tracker from the above list.\")"
   ]
  },
  {
   "cell_type": "code",
   "execution_count": 50,
   "id": "d02a3471",
   "metadata": {},
   "outputs": [],
   "source": [
    "model = YOLOv3(\n",
    "    weights_path=WEIGHTS_PATH,\n",
    "    configfile_path=CONFIG_FILE_PATH,\n",
    "    labels_path=LABELS_PATH,\n",
    "    confidence_threshold=CONFIDENCE_THRESHOLD,\n",
    "    nms_threshold=NMS_THRESHOLD,\n",
    "    draw_bboxes=DRAW_BOUNDING_BOXES,\n",
    "    use_gpu=USE_GPU\n",
    ")"
   ]
  },
  {
   "cell_type": "code",
   "execution_count": 51,
   "id": "64378d02",
   "metadata": {},
   "outputs": [],
   "source": [
    "def main(video_path, model, tracker):\n",
    "\n",
    "    cap = cv.VideoCapture(video_path)\n",
    "    while True:\n",
    "        ok, image = cap.read()\n",
    "\n",
    "        if not ok:\n",
    "            print(\"Cannot read the video feed.\")\n",
    "            break\n",
    "\n",
    "        image = cv.resize(image, (700, 500))\n",
    "        \n",
    "        timer = cv.getTickCount()\n",
    "\n",
    "        bboxes, confidences, class_ids = model.detect(image)\n",
    "        \n",
    "        tracks = tracker.update(bboxes, confidences, class_ids)\n",
    "        \n",
    "        fps = cv.getTickFrequency() / (cv.getTickCount() - timer);\n",
    "        \n",
    "        updated_image = model.draw_bboxes(image.copy(), bboxes, confidences, class_ids)\n",
    "\n",
    "        updated_image = draw_tracks(updated_image, tracks)\n",
    "        \n",
    "        cv.putText(updated_image, \"FPS : \" + str(int(fps)), (10, 50), cv.FONT_HERSHEY_SIMPLEX, 0.75, (0, 0, 0), 2)\n",
    "        cv.putText(updated_image, trackerType + \" Tracker\", (10, 20), cv.FONT_HERSHEY_SIMPLEX, 0.75, (0, 0, 0), 2);\n",
    "\n",
    "        cv.imshow(\"image\", updated_image)\n",
    "        if cv.waitKey(1) & 0xFF == ord('q'):\n",
    "            break\n",
    "\n",
    "    cap.release()\n",
    "    cv.destroyAllWindows()"
   ]
  },
  {
   "cell_type": "code",
   "execution_count": 52,
   "id": "a12747ec",
   "metadata": {},
   "outputs": [],
   "source": [
    "main(VIDEO_FILE, model, tracker)"
   ]
  },
  {
   "cell_type": "code",
   "execution_count": null,
   "id": "bb65a2ec",
   "metadata": {},
   "outputs": [],
   "source": []
  },
  {
   "cell_type": "code",
   "execution_count": null,
   "id": "990271b5",
   "metadata": {},
   "outputs": [],
   "source": []
  }
 ],
 "metadata": {
  "kernelspec": {
   "display_name": "Python 3 (ipykernel)",
   "language": "python",
   "name": "python3"
  },
  "language_info": {
   "codemirror_mode": {
    "name": "ipython",
    "version": 3
   },
   "file_extension": ".py",
   "mimetype": "text/x-python",
   "name": "python",
   "nbconvert_exporter": "python",
   "pygments_lexer": "ipython3",
   "version": "3.8.8"
  }
 },
 "nbformat": 4,
 "nbformat_minor": 5
}
